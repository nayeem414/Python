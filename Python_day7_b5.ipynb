{
 "cells": [
  {
   "cell_type": "code",
   "execution_count": 2,
   "metadata": {},
   "outputs": [
    {
     "name": "stdout",
     "output_type": "stream",
     "text": [
      "{'color': 'blue', 'points': 5}\n"
     ]
    },
    {
     "data": {
      "text/plain": [
       "dict"
      ]
     },
     "execution_count": 2,
     "metadata": {},
     "output_type": "execute_result"
    }
   ],
   "source": [
    "alien_0 = {'color' : 'blue', 'points':5}\n",
    "print(alien_0)\n",
    "type(alien_0)"
   ]
  },
  {
   "cell_type": "code",
   "execution_count": 3,
   "metadata": {},
   "outputs": [
    {
     "name": "stdout",
     "output_type": "stream",
     "text": [
      "{'color': 'blue', 'points': 5, 'a-position': 0, 'b-position': 25}\n"
     ]
    }
   ],
   "source": [
    "alien_0['a-position'] = 0\n",
    "alien_0['b-position'] = 25\n",
    "\n",
    "print(alien_0)"
   ]
  },
  {
   "cell_type": "code",
   "execution_count": 8,
   "metadata": {},
   "outputs": [
    {
     "name": "stdout",
     "output_type": "stream",
     "text": [
      "the alien is in blue\n",
      "the alien is in pink\n"
     ]
    }
   ],
   "source": [
    "alien_0 = {'color':'blue','points':5}\n",
    "print(f\"the alien is in {alien_0['color']}\")\n",
    "alien_0['color']= 'pink'\n",
    "print(f\"the alien is in {alien_0['color']}\")"
   ]
  },
  {
   "cell_type": "code",
   "execution_count": 10,
   "metadata": {},
   "outputs": [
    {
     "name": "stdout",
     "output_type": "stream",
     "text": [
      "{'bunty': 'python', 'divya': 'C++', 'siva': '.net', 'jai': 'c'}\n"
     ]
    }
   ],
   "source": [
    "fav_language = { 'bunty' : 'python', \n",
    "                  'divya':'C++',\n",
    "                  'siva':'.net',\n",
    "                   'jai':'c',}\n",
    "print(fav_language)"
   ]
  },
  {
   "cell_type": "code",
   "execution_count": 11,
   "metadata": {},
   "outputs": [
    {
     "name": "stdout",
     "output_type": "stream",
     "text": [
      "divya's a fev language is C++\n"
     ]
    }
   ],
   "source": [
    "language=fav_language['divya'].title()\n",
    "print(f\"divya's a fev language is {language}\")\n"
   ]
  },
  {
   "cell_type": "code",
   "execution_count": 12,
   "metadata": {},
   "outputs": [
    {
     "ename": "NameError",
     "evalue": "name 'alien_0' is not defined",
     "output_type": "error",
     "traceback": [
      "\u001b[1;31m---------------------------------------------------------------------------\u001b[0m",
      "\u001b[1;31mNameError\u001b[0m                                 Traceback (most recent call last)",
      "\u001b[1;32m<ipython-input-12-f1f50dde710a>\u001b[0m in \u001b[0;36m<module>\u001b[1;34m\u001b[0m\n\u001b[1;32m----> 1\u001b[1;33m \u001b[0mprint\u001b[0m\u001b[1;33m(\u001b[0m\u001b[0malien_0\u001b[0m\u001b[1;33m[\u001b[0m\u001b[1;34m'points'\u001b[0m\u001b[1;33m]\u001b[0m\u001b[1;33m)\u001b[0m\u001b[1;33m\u001b[0m\u001b[1;33m\u001b[0m\u001b[0m\n\u001b[0m",
      "\u001b[1;31mNameError\u001b[0m: name 'alien_0' is not defined"
     ]
    }
   ],
   "source": [
    "print(alien_0['points'])"
   ]
  },
  {
   "cell_type": "code",
   "execution_count": 13,
   "metadata": {},
   "outputs": [
    {
     "ename": "NameError",
     "evalue": "name 'alien_0' is not defined",
     "output_type": "error",
     "traceback": [
      "\u001b[1;31m---------------------------------------------------------------------------\u001b[0m",
      "\u001b[1;31mNameError\u001b[0m                                 Traceback (most recent call last)",
      "\u001b[1;32m<ipython-input-13-bb120bec3488>\u001b[0m in \u001b[0;36m<module>\u001b[1;34m\u001b[0m\n\u001b[1;32m----> 1\u001b[1;33m \u001b[0mpoint_value\u001b[0m \u001b[1;33m=\u001b[0m \u001b[0malien_0\u001b[0m\u001b[1;33m.\u001b[0m\u001b[0mget\u001b[0m\u001b[1;33m(\u001b[0m\u001b[1;34m'points'\u001b[0m\u001b[1;33m,\u001b[0m\u001b[1;34m'no points value assigned'\u001b[0m\u001b[1;33m)\u001b[0m\u001b[1;33m\u001b[0m\u001b[1;33m\u001b[0m\u001b[0m\n\u001b[0m\u001b[0;32m      2\u001b[0m \u001b[0mprint\u001b[0m\u001b[1;33m(\u001b[0m\u001b[0mpoint_value\u001b[0m\u001b[1;33m)\u001b[0m\u001b[1;33m\u001b[0m\u001b[1;33m\u001b[0m\u001b[0m\n",
      "\u001b[1;31mNameError\u001b[0m: name 'alien_0' is not defined"
     ]
    }
   ],
   "source": [
    "point_value = alien_0.get('points','no points value assigned')\n",
    "print(point_value)"
   ]
  },
  {
   "cell_type": "code",
   "execution_count": 4,
   "metadata": {},
   "outputs": [
    {
     "name": "stdout",
     "output_type": "stream",
     "text": [
      "\n",
      "Key: username\n",
      "\n",
      " Vlaue : abcde\n",
      "\n",
      "Key: fname\n",
      "\n",
      " Vlaue : First\n",
      "\n",
      "Key: lastname\n",
      "\n",
      " Vlaue : last\n"
     ]
    }
   ],
   "source": [
    "## looping through a dictionary\n",
    "user_0={'username': 'abcde',\n",
    "         'fname':'First',\n",
    "         'lastname':'last',\n",
    "       }\n",
    "for k,v in user_0.items():\n",
    "    print(f\"\\nKey: {k}\")\n",
    "    print(f\"\\n Vlaue : {v}\")"
   ]
  }
 ],
 "metadata": {
  "kernelspec": {
   "display_name": "Python 3",
   "language": "python",
   "name": "python3"
  },
  "language_info": {
   "codemirror_mode": {
    "name": "ipython",
    "version": 3
   },
   "file_extension": ".py",
   "mimetype": "text/x-python",
   "name": "python",
   "nbconvert_exporter": "python",
   "pygments_lexer": "ipython3",
   "version": "3.7.3"
  }
 },
 "nbformat": 4,
 "nbformat_minor": 2
}
