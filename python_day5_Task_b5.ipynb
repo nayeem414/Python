{
 "cells": [
  {
   "cell_type": "code",
   "execution_count": 17,
   "metadata": {},
   "outputs": [
    {
     "name": "stdout",
     "output_type": "stream",
     "text": [
      "['vara', 'prathyusha', 'ajay', 'siva', 'jaiganesh']\n"
     ]
    }
   ],
   "source": [
    "mystudents = ['vara', 'suprava', 'prathyusha', 'Ravali', 'ajay', 'tajeswani', 'siva', 'nayeem', 'jaiganesh', 'harsh']\n",
    "\n",
    "print(mystudents[0:10:2])\n",
    "\n"
   ]
  }
 ],
 "metadata": {
  "kernelspec": {
   "display_name": "Python 3",
   "language": "python",
   "name": "python3"
  },
  "language_info": {
   "codemirror_mode": {
    "name": "ipython",
    "version": 3
   },
   "file_extension": ".py",
   "mimetype": "text/x-python",
   "name": "python",
   "nbconvert_exporter": "python",
   "pygments_lexer": "ipython3",
   "version": "3.7.3"
  }
 },
 "nbformat": 4,
 "nbformat_minor": 2
}
