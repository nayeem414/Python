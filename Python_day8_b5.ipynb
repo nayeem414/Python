{
 "cells": [
  {
   "cell_type": "code",
   "execution_count": 2,
   "metadata": {},
   "outputs": [
    {
     "name": "stdout",
     "output_type": "stream",
     "text": [
      "{'color': 'blue', 'points': 5}\n",
      "{'color': 'pink', 'points': 10}\n",
      "{'color': 'orange', 'points': 20}\n"
     ]
    }
   ],
   "source": [
    "alien_0 = {'color' : 'blue' , 'points' :5}\n",
    "alien_1 = {'color' : 'pink' , 'points' :10}\n",
    "alien_2 = {'color' : 'orange' , 'points' :20}\n",
    "aliens = [alien_0, alien_1, alien_2]\n",
    "for alien in aliens:\n",
    "    print(alien)\n",
    "\n"
   ]
  },
  {
   "cell_type": "code",
   "execution_count": 3,
   "metadata": {},
   "outputs": [
    {
     "name": "stdout",
     "output_type": "stream",
     "text": [
      "Tell me somthing, and i will repeat it back to you:welcome to Python Training\n",
      "welcome to Python Training\n"
     ]
    }
   ],
   "source": [
    "message = input (\"Tell me somthing, and i will repeat it back to you:\")\n",
    "print(message)"
   ]
  },
  {
   "cell_type": "code",
   "execution_count": 4,
   "metadata": {},
   "outputs": [
    {
     "name": "stdout",
     "output_type": "stream",
     "text": [
      "please enter your name:Usha\n",
      "\n",
      " Hello, Usha\n"
     ]
    }
   ],
   "source": [
    "name = input('please enter your name:')\n",
    "print(f\"\\n Hello, {name}\")"
   ]
  },
  {
   "cell_type": "code",
   "execution_count": 5,
   "metadata": {},
   "outputs": [
    {
     "name": "stdout",
     "output_type": "stream",
     "text": [
      "how old are you?16\n",
      "16\n"
     ]
    }
   ],
   "source": [
    "age = input(\"how old are you?\")\n",
    "agent = int(age)\n",
    "print(age)"
   ]
  },
  {
   "cell_type": "code",
   "execution_count": 7,
   "metadata": {},
   "outputs": [
    {
     "name": "stdout",
     "output_type": "stream",
     "text": [
      "how old are you?19\n",
      "you are eligible to vote\n"
     ]
    }
   ],
   "source": [
    "age = input(\"how old are you?\")\n",
    "age=int(age)\n",
    "if age >= 18:\n",
    "    print(\"you are eligible to vote\")\n",
    "else:\n",
    "    print(\"You are too young to get the voting right.So, please try next year\")\n",
    "    "
   ]
  },
  {
   "cell_type": "code",
   "execution_count": 12,
   "metadata": {},
   "outputs": [
    {
     "name": "stdout",
     "output_type": "stream",
     "text": [
      "2\n",
      "4\n",
      "6\n",
      "8\n",
      "10\n"
     ]
    }
   ],
   "source": [
    "current_num = 2\n",
    "while current_num <= 10:\n",
    "    print(current_num)\n",
    "    current_num +=2\n",
    "    "
   ]
  },
  {
   "cell_type": "code",
   "execution_count": 18,
   "metadata": {},
   "outputs": [
    {
     "name": "stdout",
     "output_type": "stream",
     "text": [
      "\n",
      " Tell me something and i will print.\n",
      " enter 'quit' to end the program.In our team Usha is very Intellegent.\n",
      "In our team Usha is very Intellegent.\n",
      "\n",
      " Tell me something and i will print.\n",
      " enter 'quit' to end the program.quit\n",
      "quit\n"
     ]
    }
   ],
   "source": [
    "prompt = \"\\n Tell me something and i will print.\"\n",
    "prompt += \"\\n enter 'quit' to end the program.\"\n",
    "message = \"\"\n",
    "while message!='quit':\n",
    "    message = input(prompt)\n",
    "    print(message)"
   ]
  },
  {
   "cell_type": "code",
   "execution_count": null,
   "metadata": {},
   "outputs": [],
   "source": []
  }
 ],
 "metadata": {
  "kernelspec": {
   "display_name": "Python 3",
   "language": "python",
   "name": "python3"
  },
  "language_info": {
   "codemirror_mode": {
    "name": "ipython",
    "version": 3
   },
   "file_extension": ".py",
   "mimetype": "text/x-python",
   "name": "python",
   "nbconvert_exporter": "python",
   "pygments_lexer": "ipython3",
   "version": "3.7.3"
  }
 },
 "nbformat": 4,
 "nbformat_minor": 2
}
